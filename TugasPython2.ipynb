{
 "cells": [
  {
   "cell_type": "code",
   "execution_count": 3,
   "metadata": {},
   "outputs": [],
   "source": [
    "import pandas as pd"
   ]
  },
  {
   "cell_type": "code",
   "execution_count": 8,
   "metadata": {},
   "outputs": [],
   "source": [
    "path = ('http://data.jakarta.go.id/dataset/447edaa5-d0fa-409f-af7a-f45408b0bd3f/resource/79cde944-7035-4a18-bc2e-87a95ec601c7/download/Data-Kunjungan-Museum-Daya-Tarik-Wisata-DKI-Jakarta-Tahun-2014-Januari-Desember.csv')"
   ]
  },
  {
   "cell_type": "code",
   "execution_count": 9,
   "metadata": {},
   "outputs": [],
   "source": [
    "data = pd.read_csv(path)"
   ]
  },
  {
   "cell_type": "code",
   "execution_count": 6,
   "metadata": {},
   "outputs": [
    {
     "data": {
      "text/html": [
       "<div>\n",
       "<style scoped>\n",
       "    .dataframe tbody tr th:only-of-type {\n",
       "        vertical-align: middle;\n",
       "    }\n",
       "\n",
       "    .dataframe tbody tr th {\n",
       "        vertical-align: top;\n",
       "    }\n",
       "\n",
       "    .dataframe thead th {\n",
       "        text-align: right;\n",
       "    }\n",
       "</style>\n",
       "<table border=\"1\" class=\"dataframe\">\n",
       "  <thead>\n",
       "    <tr style=\"text-align: right;\">\n",
       "      <th></th>\n",
       "      <th>nama_destinasi</th>\n",
       "      <th>wisnus</th>\n",
       "      <th>wisman</th>\n",
       "    </tr>\n",
       "  </thead>\n",
       "  <tbody>\n",
       "    <tr>\n",
       "      <td>0</td>\n",
       "      <td>Monumen Nasional</td>\n",
       "      <td>1135944.0</td>\n",
       "      <td>20264.0</td>\n",
       "    </tr>\n",
       "    <tr>\n",
       "      <td>1</td>\n",
       "      <td>Museum Nasional</td>\n",
       "      <td>245848.0</td>\n",
       "      <td>0.0</td>\n",
       "    </tr>\n",
       "    <tr>\n",
       "      <td>2</td>\n",
       "      <td>Museum Satria Mandala</td>\n",
       "      <td>38756.0</td>\n",
       "      <td>0.0</td>\n",
       "    </tr>\n",
       "    <tr>\n",
       "      <td>3</td>\n",
       "      <td>Museum Sejarah Jakarta</td>\n",
       "      <td>190044.0</td>\n",
       "      <td>6389.0</td>\n",
       "    </tr>\n",
       "    <tr>\n",
       "      <td>4</td>\n",
       "      <td>Museum Tekstil</td>\n",
       "      <td>50612.0</td>\n",
       "      <td>1072.0</td>\n",
       "    </tr>\n",
       "  </tbody>\n",
       "</table>\n",
       "</div>"
      ],
      "text/plain": [
       "           nama_destinasi     wisnus   wisman\n",
       "0        Monumen Nasional  1135944.0  20264.0\n",
       "1         Museum Nasional   245848.0      0.0\n",
       "2   Museum Satria Mandala    38756.0      0.0\n",
       "3  Museum Sejarah Jakarta   190044.0   6389.0\n",
       "4          Museum Tekstil    50612.0   1072.0"
      ]
     },
     "execution_count": 6,
     "metadata": {},
     "output_type": "execute_result"
    }
   ],
   "source": [
    "data.head()"
   ]
  },
  {
   "cell_type": "code",
   "execution_count": 10,
   "metadata": {},
   "outputs": [
    {
     "data": {
      "text/html": [
       "<div>\n",
       "<style scoped>\n",
       "    .dataframe tbody tr th:only-of-type {\n",
       "        vertical-align: middle;\n",
       "    }\n",
       "\n",
       "    .dataframe tbody tr th {\n",
       "        vertical-align: top;\n",
       "    }\n",
       "\n",
       "    .dataframe thead th {\n",
       "        text-align: right;\n",
       "    }\n",
       "</style>\n",
       "<table border=\"1\" class=\"dataframe\">\n",
       "  <thead>\n",
       "    <tr style=\"text-align: right;\">\n",
       "      <th></th>\n",
       "      <th>nama_destinasi</th>\n",
       "      <th>wisnus</th>\n",
       "      <th>wisman</th>\n",
       "    </tr>\n",
       "  </thead>\n",
       "  <tbody>\n",
       "    <tr>\n",
       "      <td>5</td>\n",
       "      <td>Museum Bahari</td>\n",
       "      <td>18610.0</td>\n",
       "      <td>5488.0</td>\n",
       "    </tr>\n",
       "    <tr>\n",
       "      <td>6</td>\n",
       "      <td>Museum Seni Rupa dan Keramik</td>\n",
       "      <td>98448.0</td>\n",
       "      <td>1176.0</td>\n",
       "    </tr>\n",
       "    <tr>\n",
       "      <td>7</td>\n",
       "      <td>Museum Wayang</td>\n",
       "      <td>318560.0</td>\n",
       "      <td>45935.0</td>\n",
       "    </tr>\n",
       "    <tr>\n",
       "      <td>8</td>\n",
       "      <td>Museum Joang '45</td>\n",
       "      <td>19398.0</td>\n",
       "      <td>80.0</td>\n",
       "    </tr>\n",
       "    <tr>\n",
       "      <td>9</td>\n",
       "      <td>Taman Arkeologi Pulau Onrust</td>\n",
       "      <td>37106.0</td>\n",
       "      <td>371.0</td>\n",
       "    </tr>\n",
       "  </tbody>\n",
       "</table>\n",
       "</div>"
      ],
      "text/plain": [
       "                 nama_destinasi    wisnus   wisman\n",
       "5                 Museum Bahari   18610.0   5488.0\n",
       "6  Museum Seni Rupa dan Keramik   98448.0   1176.0\n",
       "7                 Museum Wayang  318560.0  45935.0\n",
       "8              Museum Joang '45   19398.0     80.0\n",
       "9  Taman Arkeologi Pulau Onrust   37106.0    371.0"
      ]
     },
     "execution_count": 10,
     "metadata": {},
     "output_type": "execute_result"
    }
   ],
   "source": [
    "data.tail()"
   ]
  },
  {
   "cell_type": "code",
   "execution_count": 11,
   "metadata": {},
   "outputs": [
    {
     "name": "stdout",
     "output_type": "stream",
     "text": [
      "                 nama_destinasi     wisnus   wisman\n",
      "0              Monumen Nasional  1135944.0  20264.0\n",
      "1               Museum Nasional   245848.0      0.0\n",
      "2         Museum Satria Mandala    38756.0      0.0\n",
      "3        Museum Sejarah Jakarta   190044.0   6389.0\n",
      "4                Museum Tekstil    50612.0   1072.0\n",
      "5                 Museum Bahari    18610.0   5488.0\n",
      "6  Museum Seni Rupa dan Keramik    98448.0   1176.0\n",
      "7                 Museum Wayang   318560.0  45935.0\n",
      "8              Museum Joang '45    19398.0     80.0\n",
      "9  Taman Arkeologi Pulau Onrust    37106.0    371.0\n"
     ]
    }
   ],
   "source": [
    "print(data)"
   ]
  },
  {
   "cell_type": "code",
   "execution_count": 12,
   "metadata": {},
   "outputs": [
    {
     "name": "stdout",
     "output_type": "stream",
     "text": [
      "Data baris pertama\n",
      " nama_destinasi    Monumen Nasional\n",
      "wisnus                 1.13594e+06\n",
      "wisman                       20264\n",
      "Name: 0, dtype: object\n"
     ]
    }
   ],
   "source": [
    "print('Data baris pertama\\n', data.iloc[0,:])"
   ]
  },
  {
   "cell_type": "code",
   "execution_count": 13,
   "metadata": {},
   "outputs": [
    {
     "name": "stdout",
     "output_type": "stream",
     "text": [
      "Jumlah wisatawan mancanegara di museum nasional:\n",
      " 0.0\n"
     ]
    }
   ],
   "source": [
    "print('Jumlah wisatawan mancanegara di museum nasional:\\n', data.iloc[1,2])"
   ]
  },
  {
   "cell_type": "code",
   "execution_count": 14,
   "metadata": {},
   "outputs": [
    {
     "name": "stdout",
     "output_type": "stream",
     "text": [
      "Pilihan destinasi:\n",
      " 0                Monumen Nasional\n",
      "1                 Museum Nasional\n",
      "2           Museum Satria Mandala\n",
      "3          Museum Sejarah Jakarta\n",
      "4                  Museum Tekstil\n",
      "5                   Museum Bahari\n",
      "6    Museum Seni Rupa dan Keramik\n",
      "7                   Museum Wayang\n",
      "8                Museum Joang '45\n",
      "9    Taman Arkeologi Pulau Onrust\n",
      "Name: nama_destinasi, dtype: object\n"
     ]
    }
   ],
   "source": [
    "print('Pilihan destinasi:\\n', data['nama_destinasi'])"
   ]
  },
  {
   "cell_type": "code",
   "execution_count": 15,
   "metadata": {},
   "outputs": [
    {
     "name": "stdout",
     "output_type": "stream",
     "text": [
      "<class 'pandas.core.frame.DataFrame'>\n",
      "RangeIndex: 10 entries, 0 to 9\n",
      "Data columns (total 3 columns):\n",
      "nama_destinasi    10 non-null object\n",
      "wisnus            10 non-null float64\n",
      "wisman            10 non-null float64\n",
      "dtypes: float64(2), object(1)\n",
      "memory usage: 368.0+ bytes\n"
     ]
    }
   ],
   "source": [
    "data.info()"
   ]
  },
  {
   "cell_type": "code",
   "execution_count": 16,
   "metadata": {},
   "outputs": [
    {
     "data": {
      "text/html": [
       "<div>\n",
       "<style scoped>\n",
       "    .dataframe tbody tr th:only-of-type {\n",
       "        vertical-align: middle;\n",
       "    }\n",
       "\n",
       "    .dataframe tbody tr th {\n",
       "        vertical-align: top;\n",
       "    }\n",
       "\n",
       "    .dataframe thead th {\n",
       "        text-align: right;\n",
       "    }\n",
       "</style>\n",
       "<table border=\"1\" class=\"dataframe\">\n",
       "  <thead>\n",
       "    <tr style=\"text-align: right;\">\n",
       "      <th></th>\n",
       "      <th>wisnus</th>\n",
       "      <th>wisman</th>\n",
       "    </tr>\n",
       "  </thead>\n",
       "  <tbody>\n",
       "    <tr>\n",
       "      <td>count</td>\n",
       "      <td>1.000000e+01</td>\n",
       "      <td>10.000000</td>\n",
       "    </tr>\n",
       "    <tr>\n",
       "      <td>mean</td>\n",
       "      <td>2.153326e+05</td>\n",
       "      <td>8077.500000</td>\n",
       "    </tr>\n",
       "    <tr>\n",
       "      <td>std</td>\n",
       "      <td>3.400296e+05</td>\n",
       "      <td>14688.648393</td>\n",
       "    </tr>\n",
       "    <tr>\n",
       "      <td>min</td>\n",
       "      <td>1.861000e+04</td>\n",
       "      <td>0.000000</td>\n",
       "    </tr>\n",
       "    <tr>\n",
       "      <td>25%</td>\n",
       "      <td>3.751850e+04</td>\n",
       "      <td>152.750000</td>\n",
       "    </tr>\n",
       "    <tr>\n",
       "      <td>50%</td>\n",
       "      <td>7.453000e+04</td>\n",
       "      <td>1124.000000</td>\n",
       "    </tr>\n",
       "    <tr>\n",
       "      <td>75%</td>\n",
       "      <td>2.318970e+05</td>\n",
       "      <td>6163.750000</td>\n",
       "    </tr>\n",
       "    <tr>\n",
       "      <td>max</td>\n",
       "      <td>1.135944e+06</td>\n",
       "      <td>45935.000000</td>\n",
       "    </tr>\n",
       "  </tbody>\n",
       "</table>\n",
       "</div>"
      ],
      "text/plain": [
       "             wisnus        wisman\n",
       "count  1.000000e+01     10.000000\n",
       "mean   2.153326e+05   8077.500000\n",
       "std    3.400296e+05  14688.648393\n",
       "min    1.861000e+04      0.000000\n",
       "25%    3.751850e+04    152.750000\n",
       "50%    7.453000e+04   1124.000000\n",
       "75%    2.318970e+05   6163.750000\n",
       "max    1.135944e+06  45935.000000"
      ]
     },
     "execution_count": 16,
     "metadata": {},
     "output_type": "execute_result"
    }
   ],
   "source": [
    "data.describe()"
   ]
  },
  {
   "cell_type": "code",
   "execution_count": 17,
   "metadata": {},
   "outputs": [
    {
     "name": "stdout",
     "output_type": "stream",
     "text": [
      "                 nama_destinasi     wisnus\n",
      "0              Monumen Nasional  1135944.0\n",
      "1               Museum Nasional   245848.0\n",
      "2         Museum Satria Mandala    38756.0\n",
      "3        Museum Sejarah Jakarta   190044.0\n",
      "4                Museum Tekstil    50612.0\n",
      "5                 Museum Bahari    18610.0\n",
      "6  Museum Seni Rupa dan Keramik    98448.0\n",
      "7                 Museum Wayang   318560.0\n",
      "8              Museum Joang '45    19398.0\n",
      "9  Taman Arkeologi Pulau Onrust    37106.0\n"
     ]
    }
   ],
   "source": [
    "x = data.drop('wisman', axis=1)\n",
    "print(x)"
   ]
  },
  {
   "cell_type": "code",
   "execution_count": 28,
   "metadata": {},
   "outputs": [
    {
     "name": "stdout",
     "output_type": "stream",
     "text": [
      "                 nama_destinasi   wisman\n",
      "0              Monumen Nasional  20264.0\n",
      "1               Museum Nasional      0.0\n",
      "2         Museum Satria Mandala      0.0\n",
      "3        Museum Sejarah Jakarta   6389.0\n",
      "4                Museum Tekstil   1072.0\n",
      "5                 Museum Bahari   5488.0\n",
      "6  Museum Seni Rupa dan Keramik   1176.0\n",
      "7                 Museum Wayang  45935.0\n",
      "8              Museum Joang '45     80.0\n",
      "9  Taman Arkeologi Pulau Onrust    371.0\n"
     ]
    }
   ],
   "source": [
    "y = data.drop('wisnus', axis=1)\n",
    "print(y)"
   ]
  },
  {
   "cell_type": "code",
   "execution_count": 31,
   "metadata": {},
   "outputs": [
    {
     "name": "stdout",
     "output_type": "stream",
     "text": [
      "    wisman\n",
      "0  20264.0\n",
      "1      0.0\n",
      "2      0.0\n",
      "3   6389.0\n",
      "4   1072.0\n",
      "5   5488.0\n",
      "6   1176.0\n",
      "7  45935.0\n",
      "8     80.0\n",
      "9    371.0\n"
     ]
    }
   ],
   "source": [
    "graph1 = y.drop('nama_destinasi', axis=1)\n",
    "print(graph1)"
   ]
  },
  {
   "cell_type": "code",
   "execution_count": 30,
   "metadata": {},
   "outputs": [
    {
     "name": "stdout",
     "output_type": "stream",
     "text": [
      "                                 wisnus\n",
      "nama_destinasi                         \n",
      "Monumen Nasional              1135944.0\n",
      "Museum Bahari                   18610.0\n",
      "Museum Joang '45                19398.0\n",
      "Museum Nasional                245848.0\n",
      "Museum Satria Mandala           38756.0\n",
      "Museum Sejarah Jakarta         190044.0\n",
      "Museum Seni Rupa dan Keramik    98448.0\n",
      "Museum Tekstil                  50612.0\n",
      "Museum Wayang                  318560.0\n",
      "Taman Arkeologi Pulau Onrust    37106.0\n"
     ]
    }
   ],
   "source": [
    "graph2 = x.groupby('nama_destinasi').mean()\n",
    "print(graph2)"
   ]
  },
  {
   "cell_type": "code",
   "execution_count": 20,
   "metadata": {},
   "outputs": [],
   "source": [
    "import matplotlib.pyplot as plt"
   ]
  },
  {
   "cell_type": "code",
   "execution_count": 35,
   "metadata": {},
   "outputs": [
    {
     "data": {
      "image/png": "[encoded data removed]",
      "text/plain": [
       "<Figure size 2160x1080 with 1 Axes>"
      ]
     },
     "metadata": {
      "needs_background": "light"
     },
     "output_type": "display_data"
    }
   ],
   "source": [
    "plt.figure(figsize=(30,15))\n",
    "plt.plot(graph1, label='Wisatawan Mancanegara')\n",
    "plt.plot(graph2, label='Wisatawan Nusantara')\n",
    "\n",
    "plt.xlabel('Nama Destinasi')\n",
    "plt.ylabel('Jumlah')\n",
    "plt.title('Pengunjung Museum Daya Tarik Wisata DKI Jakarta Tahun 2014')\n",
    "plt.legend()\n",
    "plt.show()"
   ]
  }
 ],
 "metadata": {
  "kernelspec": {
   "display_name": "Python 3",
   "language": "python",
   "name": "python3"
  },
  "language_info": {
   "codemirror_mode": {
    "name": "ipython",
    "version": 3
   },
   "file_extension": ".py",
   "mimetype": "text/x-python",
   "name": "python",
   "nbconvert_exporter": "python",
   "pygments_lexer": "ipython3",
   "version": "3.7.4"
  }
 },
 "nbformat": 4,
 "nbformat_minor": 2
}
